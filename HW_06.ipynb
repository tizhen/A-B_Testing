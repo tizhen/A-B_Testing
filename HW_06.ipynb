{
  "cells": [
    {
      "cell_type": "markdown",
      "id": "07d5894a",
      "metadata": {
        "id": "07d5894a"
      },
      "source": [
        "# Семинар 6"
      ]
    },
    {
      "cell_type": "code",
      "execution_count": 1,
      "id": "c568a543",
      "metadata": {
        "id": "c568a543"
      },
      "outputs": [],
      "source": [
        "from statsmodels.stats.proportion import proportion_effectsize\n",
        "from statsmodels.stats.power import tt_ind_solve_power, zt_ind_solve_power\n",
        "from statsmodels.stats.meta_analysis import effectsize_smd\n",
        "\n",
        "import warnings\n",
        "warnings.filterwarnings('ignore')"
      ]
    },
    {
      "cell_type": "markdown",
      "id": "0ed59e5a",
      "metadata": {
        "id": "0ed59e5a"
      },
      "source": [
        "## 1 Задача\n",
        "\n",
        "Продакт на главной mail.ru решил протестировать в рекомендательной ленте контента вместо карточек со статьями видеоплеер с короткими видео. Нынешний таймспент на юзера в день в среднем равен 25 минут, а стандартная ошибка (SD) равна 156. Мы предполагаем, что в новой версии таймспент на юзера в день изменится на 10%. Средний трафик 20000 человек в день. Посчитайте сколько дней необходимо держать эксперимент при alpha = 5% и beta = 20%."
      ]
    },
    {
      "cell_type": "code",
      "execution_count": 2,
      "id": "9515a23f",
      "metadata": {
        "id": "9515a23f"
      },
      "outputs": [],
      "source": [
        "Mx, SDx, My, n = 25, 156, 25*1.1, 20000\n",
        "alpha = 0.05\n",
        "beta = 0.2"
      ]
    },
    {
      "cell_type": "code",
      "execution_count": 3,
      "id": "c59b82dc",
      "metadata": {
        "colab": {
          "base_uri": "https://localhost:8080/"
        },
        "id": "c59b82dc",
        "outputId": "5a096a20-cb84-406a-f418-72981221066b"
      },
      "outputs": [
        {
          "output_type": "execute_result",
          "data": {
            "text/plain": [
              "-0.016025340527968824"
            ]
          },
          "metadata": {},
          "execution_count": 3
        }
      ],
      "source": [
        "effect_size = effectsize_smd(Mx, SDx, n, My, SDx, n)[0]\n",
        "effect_size"
      ]
    },
    {
      "cell_type": "code",
      "execution_count": 4,
      "id": "34cba5ad",
      "metadata": {
        "colab": {
          "base_uri": "https://localhost:8080/"
        },
        "id": "34cba5ad",
        "outputId": "c11ed658-d534-438a-a31a-d34ee3d2a316"
      },
      "outputs": [
        {
          "output_type": "execute_result",
          "data": {
            "text/plain": [
              "6.1126"
            ]
          },
          "metadata": {},
          "execution_count": 4
        }
      ],
      "source": [
        "int(tt_ind_solve_power(effect_size=effect_size, alpha=alpha, power=(1 - beta))) * 2 / n"
      ]
    },
    {
      "cell_type": "markdown",
      "id": "691796a9",
      "metadata": {
        "id": "691796a9"
      },
      "source": [
        "Держать эксперимент необходимо 7 дней."
      ]
    },
    {
      "cell_type": "markdown",
      "id": "3fea7a42",
      "metadata": {
        "id": "3fea7a42"
      },
      "source": [
        "## 2 Задача\n",
        "Наша продуктовая команда в ecommerce магазине планирует запустить тест, направленный на ускорение загрузки сайта. Одна из основных метрик bounce rate в GA = 40%. Мы предполагаем, что при оптимизации сайта она изменится минимум на 20%.Средний трафик 4000 человек в день. Посчитайте сколько нам нужно дней держать эксперимент при alpha = 5% и beta = 20%."
      ]
    },
    {
      "cell_type": "code",
      "execution_count": 6,
      "id": "fff569b7",
      "metadata": {
        "id": "fff569b7"
      },
      "outputs": [],
      "source": [
        "p1, p2 = 0.4, 0.4*(1-0.2)\n",
        "alpha = 0.05\n",
        "beta = 0.2\n",
        "n = 4000"
      ]
    },
    {
      "cell_type": "code",
      "execution_count": 7,
      "id": "8ed28a09",
      "metadata": {
        "colab": {
          "base_uri": "https://localhost:8080/"
        },
        "id": "8ed28a09",
        "outputId": "b31bb4ed-3d4c-4779-cafd-c9788e43e5f3"
      },
      "outputs": [
        {
          "output_type": "execute_result",
          "data": {
            "text/plain": [
              "0.16690997264630902"
            ]
          },
          "metadata": {},
          "execution_count": 7
        }
      ],
      "source": [
        "effect_size = proportion_effectsize(p1, p2)\n",
        "effect_size"
      ]
    },
    {
      "cell_type": "code",
      "execution_count": 8,
      "id": "43a368f9",
      "metadata": {
        "colab": {
          "base_uri": "https://localhost:8080/"
        },
        "id": "43a368f9",
        "outputId": "d286949f-b63a-4b8e-a1bc-1a5e7bd01554"
      },
      "outputs": [
        {
          "output_type": "execute_result",
          "data": {
            "text/plain": [
              "0.2815"
            ]
          },
          "metadata": {},
          "execution_count": 8
        }
      ],
      "source": [
        "int(zt_ind_solve_power(effect_size=effect_size, alpha=alpha, power=(1 - beta))) * 2 / n"
      ]
    },
    {
      "cell_type": "markdown",
      "id": "63f1913a",
      "metadata": {
        "id": "63f1913a"
      },
      "source": [
        "При трафике в 4000 человек в день достаточно одного дня эксперимента."
      ]
    },
    {
      "cell_type": "code",
      "execution_count": null,
      "id": "7f68f2b0",
      "metadata": {
        "id": "7f68f2b0"
      },
      "outputs": [],
      "source": []
    }
  ],
  "metadata": {
    "kernelspec": {
      "display_name": "Python 3 (ipykernel)",
      "language": "python",
      "name": "python3"
    },
    "language_info": {
      "codemirror_mode": {
        "name": "ipython",
        "version": 3
      },
      "file_extension": ".py",
      "mimetype": "text/x-python",
      "name": "python",
      "nbconvert_exporter": "python",
      "pygments_lexer": "ipython3",
      "version": "3.9.13"
    },
    "colab": {
      "provenance": []
    }
  },
  "nbformat": 4,
  "nbformat_minor": 5
}