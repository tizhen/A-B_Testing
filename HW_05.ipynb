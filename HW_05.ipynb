{
  "cells": [
    {
      "cell_type": "markdown",
      "id": "38b43d97",
      "metadata": {
        "id": "38b43d97"
      },
      "source": [
        "# Семинар 5"
      ]
    },
    {
      "cell_type": "code",
      "execution_count": 1,
      "id": "a9abe878",
      "metadata": {
        "id": "a9abe878"
      },
      "outputs": [],
      "source": [
        "import numpy as np\n",
        "\n",
        "from scipy import stats\n",
        "\n",
        "import warnings\n",
        "warnings.filterwarnings('ignore')"
      ]
    },
    {
      "cell_type": "markdown",
      "id": "e4ea5b00",
      "metadata": {
        "id": "e4ea5b00"
      },
      "source": [
        "## 1 Задача\n",
        "\n",
        "Вы провели эксперимент c упрощением формы заказа в магазине Утконос и получили результаты по метрике конверсий в покупку. Выберите метод оценки и оцените есть ли стат.значимые различия между конверсиями в двух группах при alpha = 5%. Дайте краткие рекомендации команде. Результаты:\n",
        "1) Число юзеров в группах, которые заходили на сайт в период эксперимента: n1 = 15550 и n2 = 15550  \n",
        "2) Число юзеров в группах, которые совершили хотя бы одну покупку за период эксперимента: n1 = 164 и n2 = 228  \n",
        "3) Конверсии : conv1 = 1.05% conv2 = 1.47%\n",
        "\n",
        "Для оценки статистической значимости различий между конверсиями в двух группах будем использовать Z-критерий для разности долей:  \n",
        "$Z = \\cfrac{p_1 - p_2}{\\sqrt{p (1-p) \\left(\\cfrac{1}{n_1} + \\cfrac{1}{n_2}\\right)}}$, где\n",
        "$p = \\cfrac{m_1 + m_2}{n_1 + n_2}$\n",
        "\n",
        "На уровне значимости $\\alpha = 0.05$ проверим гипотезу $H_0: p_1 = p_2$ о том, что поставщики равноценны против конкурирующей гипотезы $H_1: p_1 < p_2$.\n"
      ]
    },
    {
      "cell_type": "code",
      "execution_count": 2,
      "id": "989e1af0",
      "metadata": {
        "id": "989e1af0"
      },
      "outputs": [],
      "source": [
        "n1, n2, m1, m2, alpha = 15550, 15550, 164, 228, 0.05"
      ]
    },
    {
      "cell_type": "code",
      "execution_count": 3,
      "id": "a2ecbc35",
      "metadata": {
        "colab": {
          "base_uri": "https://localhost:8080/",
          "height": 0
        },
        "id": "a2ecbc35",
        "outputId": "5c3348b7-f382-4967-aacc-046a1ac7a587"
      },
      "outputs": [
        {
          "output_type": "stream",
          "name": "stdout",
          "text": [
            "Zk = 1.64\n",
            "Zn = -3.25\n",
            "H0: p1 = p2 is False\n"
          ]
        }
      ],
      "source": [
        "p1, p2, p = m1/n1, m2/n2, (m1+m2)/(n1+n2)\n",
        "\n",
        "Zk = stats.norm.ppf(1-alpha)\n",
        "print(f'{Zk = :.2f}')\n",
        "\n",
        "Zn = (p1-p2)/np.sqrt(p*(1-p)*(1/n1+1/n2))\n",
        "print(f'{Zn = :.2f}')\n",
        "\n",
        "print(f'H0: p1 = p2 is {Zn>-Zk}')"
      ]
    },
    {
      "cell_type": "markdown",
      "id": "4848fd70",
      "metadata": {
        "id": "4848fd70"
      },
      "source": [
        "### Ответ\n",
        "На уровне значимости $\\alpha=0.05$ гипотезу $H_0: p_1 = p_2$ отвергаем в пользу конкурирующей гипотезы $H_1: p_1 < p_2$.  \n",
        "Изменения внесенные в заказную форму в магазине Утконос дали статистически значимый эффект на уровень конверсии в покупку. Рекомендуется использовать новую форму заказа."
      ]
    },
    {
      "cell_type": "markdown",
      "id": "70dc5c36",
      "metadata": {
        "id": "70dc5c36"
      },
      "source": [
        "## 2 Задача\n",
        "\n",
        "Сравниваем метрику конверсия в покупку. Размер выборки - 10000 элементов в каждой группе. Какой статистический критерий тут лучше всего подойдёт и почему?\n",
        "\n",
        "### Ответ\n",
        "Для метрики \"конверсия в покупку\" с достаточно большими выборками (больше 30) можно использовать Z-критерий для разности долей."
      ]
    },
    {
      "cell_type": "code",
      "execution_count": null,
      "id": "7e0012d2",
      "metadata": {
        "id": "7e0012d2"
      },
      "outputs": [],
      "source": []
    }
  ],
  "metadata": {
    "kernelspec": {
      "display_name": "Python 3 (ipykernel)",
      "language": "python",
      "name": "python3"
    },
    "language_info": {
      "codemirror_mode": {
        "name": "ipython",
        "version": 3
      },
      "file_extension": ".py",
      "mimetype": "text/x-python",
      "name": "python",
      "nbconvert_exporter": "python",
      "pygments_lexer": "ipython3",
      "version": "3.9.13"
    },
    "colab": {
      "provenance": []
    }
  },
  "nbformat": 4,
  "nbformat_minor": 5
}